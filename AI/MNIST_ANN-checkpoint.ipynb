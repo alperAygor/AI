{
 "cells": [
  {
   "cell_type": "code",
   "execution_count": 1,
   "id": "d71fa63a-0335-493b-9b9e-9d3746e4400f",
   "metadata": {},
   "outputs": [],
   "source": [
    "import pandas as pd \n",
    "import numpy as np \n",
    "import matplotlib.pyplot as plt\n",
    "import torch \n",
    "import torch.nn as nn\n",
    "import torch.nn.functional as F"
   ]
  },
  {
   "cell_type": "code",
   "execution_count": 2,
   "id": "ef4490ad-f082-4946-80bc-856df66e6733",
   "metadata": {},
   "outputs": [],
   "source": [
    "from torch.utils.data import DataLoader\n",
    "from torchvision import datasets,transforms"
   ]
  },
  {
   "cell_type": "code",
   "execution_count": 3,
   "id": "98c01074-c4bc-453f-ba6f-15e2584544ca",
   "metadata": {},
   "outputs": [],
   "source": [
    "from sklearn.metrics import confusion_matrix"
   ]
  },
  {
   "cell_type": "code",
   "execution_count": 4,
   "id": "68d5d6b4-bc5a-4c75-8f1a-fd2eb3389965",
   "metadata": {},
   "outputs": [],
   "source": [
    "transforms=transforms.ToTensor()"
   ]
  },
  {
   "cell_type": "code",
   "execution_count": 5,
   "id": "b42ed8c2-fc12-40eb-b0fd-c893ecdad938",
   "metadata": {},
   "outputs": [],
   "source": [
    "train_data=datasets.MNIST(root='PYTORCH_NOTEBOOKS/Data/',train=True,download=True,transform=transforms)"
   ]
  },
  {
   "cell_type": "code",
   "execution_count": 6,
   "id": "b528a218-e9c2-4776-9026-4e247b51bf6c",
   "metadata": {},
   "outputs": [],
   "source": [
    "test_data=datasets.MNIST(root='PYTORCH_NOTEBOOKS/Data/',train=False,download=True,transform=transforms)"
   ]
  },
  {
   "cell_type": "code",
   "execution_count": 7,
   "id": "32d354d6-f512-4e98-8d6c-4526434d45a2",
   "metadata": {},
   "outputs": [
    {
     "data": {
      "text/plain": [
       "Dataset MNIST\n",
       "    Number of datapoints: 60000\n",
       "    Root location: PYTORCH_NOTEBOOKS/Data/\n",
       "    Split: Train\n",
       "    StandardTransform\n",
       "Transform: ToTensor()"
      ]
     },
     "execution_count": 7,
     "metadata": {},
     "output_type": "execute_result"
    }
   ],
   "source": [
    "train_data"
   ]
  },
  {
   "cell_type": "code",
   "execution_count": 8,
   "id": "9972f319-7b1f-4d92-8e0e-eabacdff5fd3",
   "metadata": {},
   "outputs": [
    {
     "data": {
      "text/plain": [
       "Dataset MNIST\n",
       "    Number of datapoints: 10000\n",
       "    Root location: PYTORCH_NOTEBOOKS/Data/\n",
       "    Split: Test\n",
       "    StandardTransform\n",
       "Transform: ToTensor()"
      ]
     },
     "execution_count": 8,
     "metadata": {},
     "output_type": "execute_result"
    }
   ],
   "source": [
    "test_data"
   ]
  },
  {
   "cell_type": "code",
   "execution_count": 9,
   "id": "58c7fd7a-a1cd-405e-b305-0df7d83814a6",
   "metadata": {},
   "outputs": [],
   "source": [
    "image,label=train_data[0]"
   ]
  },
  {
   "cell_type": "code",
   "execution_count": 10,
   "id": "75baf413-1fcf-4538-85ef-06e2fb5a9c06",
   "metadata": {},
   "outputs": [
    {
     "data": {
      "text/plain": [
       "<matplotlib.image.AxesImage at 0x1ba8db27fa0>"
      ]
     },
     "execution_count": 10,
     "metadata": {},
     "output_type": "execute_result"
    },
    {
     "data": {
      "image/png": "[encoded data removed]",
      "text/plain": [
       "<Figure size 640x480 with 1 Axes>"
      ]
     },
     "metadata": {},
     "output_type": "display_data"
    }
   ],
   "source": [
    "plt.imshow(image.reshape((28,28)),cmap=\"gray\")"
   ]
  },
  {
   "cell_type": "code",
   "execution_count": 11,
   "id": "06a13bcf-2d1e-41b6-935a-8d13160ba5c4",
   "metadata": {},
   "outputs": [
    {
     "data": {
      "text/plain": [
       "<torch._C.Generator at 0x1ba854d8810>"
      ]
     },
     "execution_count": 11,
     "metadata": {},
     "output_type": "execute_result"
    }
   ],
   "source": [
    "torch.manual_seed(31)"
   ]
  },
  {
   "cell_type": "code",
   "execution_count": 12,
   "id": "6cb0bb77-1c2e-4734-9238-9b46c92c2b88",
   "metadata": {},
   "outputs": [],
   "source": [
    "train_loader=DataLoader(train_data,batch_size=100,shuffle=True)"
   ]
  },
  {
   "cell_type": "code",
   "execution_count": 13,
   "id": "2689a92a-953d-4592-a911-0b703f733f41",
   "metadata": {},
   "outputs": [],
   "source": [
    "test_loader=DataLoader(test_data,batch_size=500,shuffle=False)"
   ]
  },
  {
   "cell_type": "code",
   "execution_count": 14,
   "id": "6c2f500e-0080-40f7-bdc0-dbdd4916ef85",
   "metadata": {},
   "outputs": [],
   "source": [
    "from torchvision.utils import make_grid\n",
    "np.set_printoptions(formatter=dict(int=lambda x: f\"{x+4}\"))"
   ]
  },
  {
   "cell_type": "code",
   "execution_count": 15,
   "id": "f5b09e9d-104a-49b9-82ef-3d481cf0d381",
   "metadata": {},
   "outputs": [],
   "source": [
    "for images,labels in train_loader:\n",
    "    break"
   ]
  },
  {
   "cell_type": "code",
   "execution_count": 16,
   "id": "923f3df1-7002-4193-a6fa-c4d7440598cc",
   "metadata": {},
   "outputs": [
    {
     "data": {
      "text/plain": [
       "torch.Size([100, 1, 28, 28])"
      ]
     },
     "execution_count": 16,
     "metadata": {},
     "output_type": "execute_result"
    }
   ],
   "source": [
    "images.shape"
   ]
  },
  {
   "cell_type": "code",
   "execution_count": 17,
   "id": "2f182c1c-c4a9-41f3-9aea-8478ac9d2a1d",
   "metadata": {},
   "outputs": [
    {
     "data": {
      "text/plain": [
       "100"
      ]
     },
     "execution_count": 17,
     "metadata": {},
     "output_type": "execute_result"
    }
   ],
   "source": [
    "len(labels)"
   ]
  },
  {
   "cell_type": "code",
   "execution_count": 18,
   "id": "acd9b575-fd4b-4205-9200-4845bd107eb1",
   "metadata": {},
   "outputs": [],
   "source": [
    "class MultilayerPerceptron(nn.Module):\n",
    "    def __init__(self,in_sz=784,out_sz=10,layers=[120,84]):\n",
    "        super().__init__()\n",
    "        self.fc1=nn.Linear(in_sz,layers[0])\n",
    "        self.fc2=nn.Linear(layers[0],layers[1])\n",
    "        self.fc3=nn.Linear(layers[1],out_sz)\n",
    "    def forward(self,X):\n",
    "        X=F.relu(self.fc1(X))\n",
    "        X=F.relu(self.fc2(X))\n",
    "        X=self.fc3(X)\n",
    "        return F.log_softmax(X,dim=1)"
   ]
  },
  {
   "cell_type": "code",
   "execution_count": 19,
   "id": "97ae1f91-b75c-40d7-9bb8-f5e684817351",
   "metadata": {},
   "outputs": [],
   "source": [
    "torch.manual_seed(31)\n",
    "model=MultilayerPerceptron()"
   ]
  },
  {
   "cell_type": "code",
   "execution_count": 20,
   "id": "9072395c-962d-4f13-887e-a88660b79807",
   "metadata": {},
   "outputs": [
    {
     "name": "stdout",
     "output_type": "stream",
     "text": [
      "94080\n",
      "120\n",
      "10080\n",
      "84\n",
      "840\n",
      "10\n"
     ]
    }
   ],
   "source": [
    "for param in model.parameters():\n",
    "    print(param.numel())"
   ]
  },
  {
   "cell_type": "code",
   "execution_count": 21,
   "id": "a4a94c47-3926-43b1-8b51-84d1d236418a",
   "metadata": {},
   "outputs": [
    {
     "name": "stdout",
     "output_type": "stream",
     "text": [
      "Epoch:0 batch:200 loss:0.3367689549922943 accuracy:82.385\n",
      "Epoch:0 batch:400 loss:0.1969372034072876 accuracy:87.17\n",
      "Epoch:0 batch:600 loss:0.2792956829071045 accuracy:89.24\n",
      "test_acc:94.01\n",
      "test_loss:0.2792956829071045\n",
      "Epoch:1 batch:200 loss:0.08771087974309921 accuracy:94.765\n",
      "Epoch:1 batch:400 loss:0.15087497234344482 accuracy:94.975\n",
      "Epoch:1 batch:600 loss:0.12020035088062286 accuracy:95.20666666666666\n",
      "test_acc:96.24\n",
      "test_loss:0.12020035088062286\n",
      "Epoch:2 batch:200 loss:0.11356913298368454 accuracy:96.345\n",
      "Epoch:2 batch:400 loss:0.19109071791172028 accuracy:96.44\n",
      "Epoch:2 batch:600 loss:0.21196043491363525 accuracy:96.545\n",
      "test_acc:96.72\n",
      "test_loss:0.21196043491363525\n",
      "Epoch:3 batch:200 loss:0.050936508923769 accuracy:97.465\n",
      "Epoch:3 batch:400 loss:0.04338139668107033 accuracy:97.425\n",
      "Epoch:3 batch:600 loss:0.09317073225975037 accuracy:97.45\n",
      "test_acc:97.27\n",
      "test_loss:0.09317073225975037\n",
      "Epoch:4 batch:200 loss:0.038619160652160645 accuracy:98.015\n",
      "Epoch:4 batch:400 loss:0.10058277100324631 accuracy:97.9225\n",
      "Epoch:4 batch:600 loss:0.05433676764369011 accuracy:97.86833333333334\n",
      "test_acc:97.27\n",
      "test_loss:0.05433676764369011\n",
      "Epoch:5 batch:200 loss:0.013102160766720772 accuracy:98.375\n",
      "Epoch:5 batch:400 loss:0.0143799539655447 accuracy:98.3825\n",
      "Epoch:5 batch:600 loss:0.030472075566649437 accuracy:98.35166666666667\n",
      "test_acc:97.56\n",
      "test_loss:0.030472075566649437\n",
      "Epoch:6 batch:200 loss:0.054926883429288864 accuracy:98.555\n",
      "Epoch:6 batch:400 loss:0.014703434891998768 accuracy:98.59\n",
      "Epoch:6 batch:600 loss:0.009591714479029179 accuracy:98.56166666666667\n",
      "test_acc:97.58\n",
      "test_loss:0.009591714479029179\n",
      "Epoch:7 batch:200 loss:0.010974721051752567 accuracy:98.925\n",
      "Epoch:7 batch:400 loss:0.017422903329133987 accuracy:98.92\n",
      "Epoch:7 batch:600 loss:0.04671059176325798 accuracy:98.835\n",
      "test_acc:97.56\n",
      "test_loss:0.04671059176325798\n",
      "Epoch:8 batch:200 loss:0.027241121977567673 accuracy:99.195\n",
      "Epoch:8 batch:400 loss:0.032302480190992355 accuracy:99.0925\n",
      "Epoch:8 batch:600 loss:0.00791873224079609 accuracy:99.09666666666666\n",
      "test_acc:97.63\n",
      "test_loss:0.00791873224079609\n",
      "Epoch:9 batch:200 loss:0.06536054611206055 accuracy:99.335\n",
      "Epoch:9 batch:400 loss:0.025080280378460884 accuracy:99.2575\n",
      "Epoch:9 batch:600 loss:0.00799578707665205 accuracy:99.22666666666667\n",
      "test_acc:97.71\n",
      "test_loss:0.00799578707665205\n",
      "Duration:1.4726742545763651\n"
     ]
    }
   ],
   "source": [
    "\n",
    "criterion=nn.CrossEntropyLoss()\n",
    "optimizer=torch.optim.Adam(model.parameters(),lr=0.001)\n",
    "epochs=10\n",
    "train_losses=[]\n",
    "test_losses=[]\n",
    "test_acc=[]\n",
    "train_acc=[]\n",
    "import time \n",
    "start_time=time.time()\n",
    "for i in range(epochs):\n",
    "    train_correct=0\n",
    "    test_correct=0\n",
    "    for b ,(X_train,y_train) in enumerate(train_loader):\n",
    "        b=b+1\n",
    "        y_pred=model(X_train.view(100,-1))\n",
    "        loss=criterion(y_pred,y_train)\n",
    "        #vektörümüzde maksimum sayısı tahmin edilen sayı \n",
    "    \n",
    "        predicted=torch.max(y_pred.data,1)[1]\n",
    "        batch_corr=(predicted==y_train).sum()\n",
    "        train_correct+=batch_corr\n",
    "\n",
    "        optimizer.zero_grad()\n",
    "        loss.backward()\n",
    "        optimizer.step()\n",
    "        if b%200==0:\n",
    "            acc=train_correct.item()/(b)\n",
    "            print(f\"Epoch:{i} batch:{b} loss:{loss.item()} accuracy:{acc}\")\n",
    "    b=0\n",
    "    train_acc.append(acc)\n",
    "    train_losses.append(loss.item())\n",
    "    with torch.no_grad():\n",
    "        batch_corr=0   \n",
    "        for b, (X_test,y_test) in enumerate(test_loader):\n",
    "            b=b+1\n",
    "            y_test_pred=model(X_test.view(500,-1))\n",
    "            predicted=torch.max(y_test_pred.data,1)[1]\n",
    "            batch_corr=(predicted==y_test).sum()\n",
    "            test_correct+=batch_corr\n",
    "    \n",
    "    test_loss=criterion(y_test_pred,y_test)\n",
    "    test_losses.append(test_loss)\n",
    "    acc=test_correct.item()/(b*5)\n",
    "    test_acc.append(acc)\n",
    "    print(f\"test_acc:{acc}\")   \n",
    "    print(f\"test_loss:{loss}\")                           \n",
    "total_time=time.time()-start_time\n",
    "print(f\"Duration:{total_time/60}\")"
   ]
  },
  {
   "cell_type": "code",
   "execution_count": 22,
   "id": "12fc6be9-013e-430f-9875-2615b1f66e9b",
   "metadata": {},
   "outputs": [
    {
     "data": {
      "image/png": "[encoded data removed]",
      "text/plain": [
       "<Figure size 640x480 with 1 Axes>"
      ]
     },
     "metadata": {},
     "output_type": "display_data"
    }
   ],
   "source": [
    "plt.plot(train_losses)\n",
    "plt.title(\"Loss\")\n",
    "plt.plot(test_losses)\n",
    "plt.legend([\"train\",\"test\"])\n",
    "plt.show()"
   ]
  },
  {
   "cell_type": "code",
   "execution_count": 23,
   "id": "cdfcdaf4-a1c7-40bd-8d01-10bf533caa15",
   "metadata": {},
   "outputs": [
    {
     "data": {
      "image/png": "[encoded data removed]",
      "text/plain": [
       "<Figure size 640x480 with 1 Axes>"
      ]
     },
     "metadata": {},
     "output_type": "display_data"
    }
   ],
   "source": [
    "plt.plot(train_acc)\n",
    "plt.title(\"Accuracy\")\n",
    "plt.plot(test_acc)\n",
    "plt.legend([\"train\",\"test\"])\n",
    "plt.show()"
   ]
  },
  {
   "cell_type": "code",
   "execution_count": 24,
   "id": "6a94a5c3-3314-4b0d-aed5-d6def0a2cd53",
   "metadata": {},
   "outputs": [],
   "source": [
    "torch.save(model.state_dict(),\"ANN_MNIST.pt\")"
   ]
  },
  {
   "cell_type": "code",
   "execution_count": null,
   "id": "ec3bd27c-6a80-4f53-9bfe-15929ca40f93",
   "metadata": {},
   "outputs": [],
   "source": []
  }
 ],
 "metadata": {
  "kernelspec": {
   "display_name": "Python (pytorch_env)",
   "language": "python",
   "name": "pytorch_env"
  },
  "language_info": {
   "codemirror_mode": {
    "name": "ipython",
    "version": 3
   },
   "file_extension": ".py",
   "mimetype": "text/x-python",
   "name": "python",
   "nbconvert_exporter": "python",
   "pygments_lexer": "ipython3",
   "version": "3.10.15"
  }
 },
 "nbformat": 4,
 "nbformat_minor": 5
}
